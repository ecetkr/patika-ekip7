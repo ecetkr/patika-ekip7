{
 "cells": [
  {
   "cell_type": "code",
   "execution_count": 108,
   "metadata": {},
   "outputs": [],
   "source": [
    "import pandas as pd\n",
    "import matplotlib.pyplot as plt\n",
    "import seaborn as sns\n",
    "from sklearn.model_selection import train_test_split, GridSearchCV\n",
    "from sklearn.preprocessing import StandardScaler, OneHotEncoder\n",
    "from sklearn.compose import ColumnTransformer\n",
    "from sklearn.pipeline import Pipeline\n",
    "from sklearn.ensemble import RandomForestRegressor\n",
    "from sklearn.metrics import mean_absolute_error, mean_squared_error"
   ]
  },
  {
   "cell_type": "markdown",
   "metadata": {},
   "source": [
    "### VERİYİ TANIMA "
   ]
  },
  {
   "cell_type": "code",
   "execution_count": 109,
   "metadata": {},
   "outputs": [
    {
     "data": {
      "text/html": [
       "<div>\n",
       "<style scoped>\n",
       "    .dataframe tbody tr th:only-of-type {\n",
       "        vertical-align: middle;\n",
       "    }\n",
       "\n",
       "    .dataframe tbody tr th {\n",
       "        vertical-align: top;\n",
       "    }\n",
       "\n",
       "    .dataframe thead th {\n",
       "        text-align: right;\n",
       "    }\n",
       "</style>\n",
       "<table border=\"1\" class=\"dataframe\">\n",
       "  <thead>\n",
       "    <tr style=\"text-align: right;\">\n",
       "      <th></th>\n",
       "      <th>Number_of_Customers</th>\n",
       "      <th>Menu_Price</th>\n",
       "      <th>Marketing_Spend</th>\n",
       "      <th>Cuisine_Type</th>\n",
       "      <th>Average_Customer_Spending</th>\n",
       "      <th>Promotions</th>\n",
       "      <th>Reviews</th>\n",
       "      <th>Monthly_Revenue</th>\n",
       "    </tr>\n",
       "  </thead>\n",
       "  <tbody>\n",
       "    <tr>\n",
       "      <th>0</th>\n",
       "      <td>61</td>\n",
       "      <td>43.117635</td>\n",
       "      <td>12.663793</td>\n",
       "      <td>Japanese</td>\n",
       "      <td>36.236133</td>\n",
       "      <td>0</td>\n",
       "      <td>45</td>\n",
       "      <td>350.912040</td>\n",
       "    </tr>\n",
       "    <tr>\n",
       "      <th>1</th>\n",
       "      <td>24</td>\n",
       "      <td>40.020077</td>\n",
       "      <td>4.577892</td>\n",
       "      <td>Italian</td>\n",
       "      <td>17.952562</td>\n",
       "      <td>0</td>\n",
       "      <td>36</td>\n",
       "      <td>221.319091</td>\n",
       "    </tr>\n",
       "    <tr>\n",
       "      <th>2</th>\n",
       "      <td>81</td>\n",
       "      <td>41.981485</td>\n",
       "      <td>4.652911</td>\n",
       "      <td>Japanese</td>\n",
       "      <td>22.600420</td>\n",
       "      <td>1</td>\n",
       "      <td>91</td>\n",
       "      <td>326.529763</td>\n",
       "    </tr>\n",
       "    <tr>\n",
       "      <th>3</th>\n",
       "      <td>70</td>\n",
       "      <td>43.005307</td>\n",
       "      <td>4.416053</td>\n",
       "      <td>Italian</td>\n",
       "      <td>18.984098</td>\n",
       "      <td>1</td>\n",
       "      <td>59</td>\n",
       "      <td>348.190573</td>\n",
       "    </tr>\n",
       "    <tr>\n",
       "      <th>4</th>\n",
       "      <td>30</td>\n",
       "      <td>17.456199</td>\n",
       "      <td>3.475052</td>\n",
       "      <td>Italian</td>\n",
       "      <td>12.766143</td>\n",
       "      <td>1</td>\n",
       "      <td>30</td>\n",
       "      <td>185.009121</td>\n",
       "    </tr>\n",
       "  </tbody>\n",
       "</table>\n",
       "</div>"
      ],
      "text/plain": [
       "   Number_of_Customers  Menu_Price  Marketing_Spend Cuisine_Type  \\\n",
       "0                   61   43.117635        12.663793     Japanese   \n",
       "1                   24   40.020077         4.577892      Italian   \n",
       "2                   81   41.981485         4.652911     Japanese   \n",
       "3                   70   43.005307         4.416053      Italian   \n",
       "4                   30   17.456199         3.475052      Italian   \n",
       "\n",
       "   Average_Customer_Spending  Promotions  Reviews  Monthly_Revenue  \n",
       "0                  36.236133           0       45       350.912040  \n",
       "1                  17.952562           0       36       221.319091  \n",
       "2                  22.600420           1       91       326.529763  \n",
       "3                  18.984098           1       59       348.190573  \n",
       "4                  12.766143           1       30       185.009121  "
      ]
     },
     "execution_count": 109,
     "metadata": {},
     "output_type": "execute_result"
    }
   ],
   "source": [
    "data= pd.read_csv(r'C:\\Users\\beyza\\Downloads\\Restaurant_revenue.csv')\n",
    "data.head()"
   ]
  },
  {
   "cell_type": "code",
   "execution_count": 110,
   "metadata": {},
   "outputs": [
    {
     "name": "stdout",
     "output_type": "stream",
     "text": [
      "<class 'pandas.core.frame.DataFrame'>\n",
      "RangeIndex: 1000 entries, 0 to 999\n",
      "Data columns (total 8 columns):\n",
      " #   Column                     Non-Null Count  Dtype  \n",
      "---  ------                     --------------  -----  \n",
      " 0   Number_of_Customers        1000 non-null   int64  \n",
      " 1   Menu_Price                 1000 non-null   float64\n",
      " 2   Marketing_Spend            1000 non-null   float64\n",
      " 3   Cuisine_Type               1000 non-null   object \n",
      " 4   Average_Customer_Spending  1000 non-null   float64\n",
      " 5   Promotions                 1000 non-null   int64  \n",
      " 6   Reviews                    1000 non-null   int64  \n",
      " 7   Monthly_Revenue            1000 non-null   float64\n",
      "dtypes: float64(4), int64(3), object(1)\n",
      "memory usage: 62.6+ KB\n"
     ]
    }
   ],
   "source": [
    "data.info()"
   ]
  },
  {
   "cell_type": "markdown",
   "metadata": {},
   "source": [
    "- DataFrame sınıfına ait bir nesne \n",
    "- 1000 satır gözlem içerir . index 0 ile 999 arasındadır ( RangeIndex: 1000 entries , 0 to 999 )\n",
    "- 8 sütun içerir."
   ]
  },
  {
   "cell_type": "markdown",
   "metadata": {},
   "source": [
    "Restoran Geliri Tahmini Veri Kümesi, bir dizi hayali restoran için aylık gelirin tahmin edilmesine odaklanan, tahmine dayalı modelleme çalışmaları için hazırlanmış simüle edilmiş bir veri kümesidir. Bu veri seti, restoran performansını etkileyen faktörleri taklit etmek için tasarlanmış çok çeşitli özellikler sunar.\n",
    "\n",
    "**Veri Kümesi Özellikleri:**\n",
    "\n",
    "1. *Number_of_Customers (Müşteri Sayısı)*\n",
    "\n",
    "- &nbsp; Restoranı ziyaret eden müşterilerin sayısını belirtir.\n",
    "- &nbsp; Yüksek müşteri sayısı genellikle daha yüksek gelirle ilişkilidir. Müşteri sayısı, restoranın popülaritesini ve müşteri tabanının genişliğini gösterir.\n",
    "\n",
    "2. *Menu_Price (Menü Fiyatı)*\n",
    "\n",
    "- &nbsp; Restorandaki ortalama menü fiyatlarını gösterir.\n",
    "- &nbsp; Menü fiyatları, gelir tahmininde önemli bir faktördür. Yüksek fiyatlar daha yüksek gelir sağlayabilir, ancak müşteri sayısını da etkileyebilir.\n",
    "\n",
    "3. *Marketing_Spend (Pazarlama Harcaması)*\n",
    "\n",
    "- &nbsp; Pazarlama faaliyetlerine ilişkin harcamaları belirtir.\n",
    "- &nbsp; Pazarlama harcamaları, müşteri çekme ve gelir artırma stratejilerinde kritik bir rol oynar. Daha yüksek pazarlama harcamaları genellikle daha fazla müşteri çekebilir.\n",
    "\n",
    "4. *Cuisine_Type (Mutfak Türü)*\n",
    "\n",
    "- &nbsp; Restoranın sunduğu mutfağın türünü belirtir (örneğin, İtalyan, Meksika, Japon, Amerikan).\n",
    "- &nbsp; Mutfak türü, belirli müşteri segmentlerini çekebilir ve restoranın popülaritesini etkileyebilir. Farklı mutfak türleri farklı fiyatlandırma stratejilerine sahip olabilir.\n",
    " \n",
    "5. *Average_Customer_Spending (Ortalama Müşteri Harcaması)*\n",
    "\n",
    "- &nbsp; Müşteri başına ortalama harcamayı gösterir.\n",
    "- &nbsp; Ortalama müşteri harcaması, gelir tahmini için kritik bir faktördür. Müşterilerin ne kadar harcadığı, toplam geliri doğrudan etkiler.\n",
    "\n",
    "6. *Promotions (Promosyonlar)*\n",
    "\n",
    "- &nbsp; Promosyonların yapılıp yapılmadığını gösteren ikili bir göstergedir (0 veya 1).\n",
    "- &nbsp; Promosyonlar, müşteri çekmek ve satışları artırmak için yaygın olarak kullanılır. Promosyonların varlığı (1), satışlarda geçici bir artışa neden olabilir.\n",
    "\n",
    "7. *Reviews (Yorumlar)*\n",
    "\n",
    "- &nbsp; Restoranın aldığı yorumların sayısını belirtir.\n",
    "- &nbsp; Yorumlar, restoranın itibarını ve müşteri memnuniyetini yansıtır. Daha fazla olumlu yorum, daha fazla müşteri çekebilir ve geliri artırabilir.\n",
    "\n",
    "8. *Monthly_Revenue (Aylık Gelir)*\n",
    "\n",
    "- &nbsp; Restoranın simüle edilmiş aylık gelirini gösterir.\n",
    "- &nbsp; Bu, tahmin için hedef değişkendir ve yukarıdaki faktörlerin etkilediği sonucu gösterir. Amaç, diğer faktörlere dayanarak bu değeri tahmin etmektir."
   ]
  },
  {
   "cell_type": "markdown",
   "metadata": {},
   "source": [
    "---"
   ]
  },
  {
   "cell_type": "markdown",
   "metadata": {},
   "source": [
    "### Veri Temizleme \n",
    "Eksik verilerin ve aykırı değerlerin kontrol edilmesi ve gerektiğinde düzeltilmesi."
   ]
  },
  {
   "cell_type": "code",
   "execution_count": 111,
   "metadata": {},
   "outputs": [
    {
     "data": {
      "text/plain": [
       "Number_of_Customers          False\n",
       "Menu_Price                   False\n",
       "Marketing_Spend              False\n",
       "Cuisine_Type                 False\n",
       "Average_Customer_Spending    False\n",
       "Promotions                   False\n",
       "Reviews                      False\n",
       "Monthly_Revenue              False\n",
       "dtype: bool"
      ]
     },
     "execution_count": 111,
     "metadata": {},
     "output_type": "execute_result"
    }
   ],
   "source": [
    "#from pandas\n",
    "data.isnull().any()"
   ]
  },
  {
   "cell_type": "markdown",
   "metadata": {},
   "source": [
    "**DataFrame'in hiçbir sütununda eksik(null) veri bulunmamaktadır. Veri analizi ve modelleme işlemi için eksik veri imputation (doldurma) veya veri temizleme adımlarına gerek yok.**"
   ]
  },
  {
   "cell_type": "markdown",
   "metadata": {},
   "source": [
    "---"
   ]
  },
  {
   "cell_type": "markdown",
   "metadata": {},
   "source": [
    "# Keşifsel Veri Analizi (EDA)"
   ]
  }
 ],
 "metadata": {
  "kernelspec": {
   "display_name": "Python 3",
   "language": "python",
   "name": "python3"
  },
  "language_info": {
   "codemirror_mode": {
    "name": "ipython",
    "version": 3
   },
   "file_extension": ".py",
   "mimetype": "text/x-python",
   "name": "python",
   "nbconvert_exporter": "python",
   "pygments_lexer": "ipython3",
   "version": "3.12.3"
  }
 },
 "nbformat": 4,
 "nbformat_minor": 2
}
