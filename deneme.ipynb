{
 "cells": [
  {
   "cell_type": "code",
   "execution_count": null,
   "metadata": {},
   "outputs": [],
   "source": [
    "import pandas as pd\n",
    "import matplotlib.pyplot as plt\n",
    "import seaborn as sns\n",
    "from sklearn.model_selection import train_test_split, GridSearchCV\n",
    "from sklearn.preprocessing import StandardScaler, OneHotEncoder\n",
    "from sklearn.compose import ColumnTransformer\n",
    "from sklearn.pipeline import Pipeline\n",
    "from sklearn.ensemble import RandomForestRegressor\n",
    "from sklearn.metrics import mean_absolute_error, mean_squared_error\n",
    "\n",
    "import numpy as np\n"
   ]
  },
  {
   "cell_type": "markdown",
   "metadata": {},
   "source": [
    "### VERİYİ TANIMA "
   ]
  },
  {
   "cell_type": "code",
   "execution_count": null,
   "metadata": {},
   "outputs": [],
   "source": [
    "data= pd.read_csv(r'C:\\Users\\beyza\\Downloads\\Restaurant_revenue.csv')\n",
    "data.head()"
   ]
  },
  {
   "cell_type": "code",
   "execution_count": null,
   "metadata": {},
   "outputs": [],
   "source": [
    "data.info()"
   ]
  },
  {
   "cell_type": "markdown",
   "metadata": {},
   "source": [
    "- DataFrame sınıfına ait bir nesne \n",
    "- 1000 satır gözlem içerir . index 0 ile 999 arasındadır ( RangeIndex: 1000 entries , 0 to 999 )\n",
    "- 8 sütun içerir."
   ]
  },
  {
   "cell_type": "markdown",
   "metadata": {},
   "source": [
    "Restoran Geliri Tahmini Veri Kümesi, bir dizi hayali restoran için aylık gelirin tahmin edilmesine odaklanan, tahmine dayalı modelleme çalışmaları için hazırlanmış simüle edilmiş bir veri kümesidir. Bu veri seti, restoran performansını etkileyen faktörleri taklit etmek için tasarlanmış çok çeşitli özellikler sunar.\n",
    "\n",
    "**Veri Kümesi Özellikleri:**\n",
    "\n",
    "1. *Number_of_Customers (Müşteri Sayısı)*\n",
    "\n",
    "- &nbsp; Restoranı ziyaret eden müşterilerin sayısını belirtir.\n",
    "- &nbsp; Yüksek müşteri sayısı genellikle daha yüksek gelirle ilişkilidir. Müşteri sayısı, restoranın popülaritesini ve müşteri tabanının genişliğini gösterir.\n",
    "\n",
    "2. *Menu_Price (Menü Fiyatı)*\n",
    "\n",
    "- &nbsp; Restorandaki ortalama menü fiyatlarını gösterir.\n",
    "- &nbsp; Menü fiyatları, gelir tahmininde önemli bir faktördür. Yüksek fiyatlar daha yüksek gelir sağlayabilir, ancak müşteri sayısını da etkileyebilir.\n",
    "\n",
    "3. *Marketing_Spend (Pazarlama Harcaması)*\n",
    "\n",
    "- &nbsp; Pazarlama faaliyetlerine ilişkin harcamaları belirtir.\n",
    "- &nbsp; Pazarlama harcamaları, müşteri çekme ve gelir artırma stratejilerinde kritik bir rol oynar. Daha yüksek pazarlama harcamaları genellikle daha fazla müşteri çekebilir.\n",
    "\n",
    "4. *Cuisine_Type (Mutfak Türü)*\n",
    "\n",
    "- &nbsp; Restoranın sunduğu mutfağın türünü belirtir (örneğin, İtalyan, Meksika, Japon, Amerikan).\n",
    "- &nbsp; Mutfak türü, belirli müşteri segmentlerini çekebilir ve restoranın popülaritesini etkileyebilir. Farklı mutfak türleri farklı fiyatlandırma stratejilerine sahip olabilir.\n",
    " \n",
    "5. *Average_Customer_Spending (Ortalama Müşteri Harcaması)*\n",
    "\n",
    "- &nbsp; Müşteri başına ortalama harcamayı gösterir.\n",
    "- &nbsp; Ortalama müşteri harcaması, gelir tahmini için kritik bir faktördür. Müşterilerin ne kadar harcadığı, toplam geliri doğrudan etkiler.\n",
    "\n",
    "6. *Promotions (Promosyonlar)*\n",
    "\n",
    "- &nbsp; Promosyonların yapılıp yapılmadığını gösteren ikili bir göstergedir (0 veya 1).\n",
    "- &nbsp; Promosyonlar, müşteri çekmek ve satışları artırmak için yaygın olarak kullanılır. Promosyonların varlığı (1), satışlarda geçici bir artışa neden olabilir.\n",
    "\n",
    "7. *Reviews (Yorumlar)*\n",
    "\n",
    "- &nbsp; Restoranın aldığı yorumların sayısını belirtir.\n",
    "- &nbsp; Yorumlar, restoranın itibarını ve müşteri memnuniyetini yansıtır. Daha fazla olumlu yorum, daha fazla müşteri çekebilir ve geliri artırabilir.\n",
    "\n",
    "8. *Monthly_Revenue (Aylık Gelir)*\n",
    "\n",
    "- &nbsp; Restoranın simüle edilmiş aylık gelirini gösterir.\n",
    "- &nbsp; Bu, tahmin için hedef değişkendir ve yukarıdaki faktörlerin etkilediği sonucu gösterir. Amaç, diğer faktörlere dayanarak bu değeri tahmin etmektir."
   ]
  },
  {
   "cell_type": "markdown",
   "metadata": {},
   "source": [
    "---"
   ]
  },
  {
   "cell_type": "markdown",
   "metadata": {},
   "source": [
    "### Veri Temizleme \n",
    "Eksik verilerin ve aykırı değerlerin kontrol edilmesi ve gerektiğinde düzeltilmesi."
   ]
  },
  {
   "cell_type": "code",
   "execution_count": null,
   "metadata": {},
   "outputs": [],
   "source": [
    "#from pandas\n",
    "data.isnull().any()"
   ]
  },
  {
   "cell_type": "code",
   "execution_count": null,
   "metadata": {},
   "outputs": [],
   "source": [
    "#eksik veri varsa toplam kaç tane\n",
    "data.isnull().sum()"
   ]
  },
  {
   "cell_type": "markdown",
   "metadata": {},
   "source": [
    "**DataFrame'in hiçbir sütununda eksik(null) veri bulunmamaktadır. Veri analizi ve modelleme işlemi için eksik veri imputation (doldurma) veya veri temizleme adımlarına gerek yok.**"
   ]
  },
  {
   "cell_type": "markdown",
   "metadata": {},
   "source": [
    "---"
   ]
  },
  {
   "cell_type": "code",
   "execution_count": null,
   "metadata": {},
   "outputs": [],
   "source": [
    "data.describe()"
   ]
  },
  {
   "cell_type": "code",
   "execution_count": null,
   "metadata": {},
   "outputs": [],
   "source": [
    "#Temel Istatistikler\n",
    "print(data.describe().T)"
   ]
  },
  {
   "cell_type": "markdown",
   "metadata": {},
   "source": [
    "# Keşifsel Veri Analizi (EDA)"
   ]
  },
  {
   "cell_type": "markdown",
   "metadata": {},
   "source": [
    "#### Outlier ( aykırı) değer tespiti / temizlenmesi"
   ]
  },
  {
   "cell_type": "markdown",
   "metadata": {},
   "source": [
    "Aykırı değerleri bulmak için genellikle belirli bir eşik değeri kullanılır. Bu eşik değeri, genellikle verinin istatistiksel özelliklerine göre belirlenir. Örneğin, verinin çeyrekliklerine dayalı olarak belirlenen IQR (Interquartile Range) kullanılabilir.\n",
    "\n",
    "Veri setinizdeki aykırı değerleri bulmak için aşağıdaki adımları izleyebilirsiniz:\n",
    "\n",
    "Veri setinizdeki her bir özellik için istatistiksel özetleri inceleyin. Bu, her bir özellik için ortalama, standart sapma, minimum, maksimum, çeyreklikler gibi değerleri içerecektir.\n",
    "\n",
    "Çeyreklikler ve IQR kullanarak bir eşik değeri belirleyin. Örneğin, alt çeyreklik (Q1) ve üst çeyreklik (Q3) arasındaki farkı ifade eden IQR'ı hesaplayın. Ardından, aykırı değerler için alt ve üst sınırı belirlemek için bu IQR'ı kullanın. Genellikle, alt sınır Q1 - 1.5 * IQR ve üst sınır Q3 + 1.5 * IQR olarak belirlenir.\n",
    "\n",
    "Belirlediğiniz eşik değeri kullanarak, her bir özellik için aykırı değerleri tespit edin. Örneğin, alt sınırdan küçük veya üst sınırdan büyük olan değerler aykırı değer olarak kabul edilir.\n",
    "\n",
    "--\n",
    "\n",
    "aykırı değerleri her sütun için ayrı ayrı bulmanız gerekecek çünkü her sütunun istatistiksel özellikleri farklı olabilir ve aykırı değerlerin tespiti için farklı eşik değerlerine ihtiyaç duyulabilir. Bu nedenle, her sütun için ayrı ayrı çeyreklikleri, IQR'ı ve sonrasında aykırı değerleri bulmanız gerekmektedir.\n",
    "\n",
    "İşte her sütun için aykırı değerleri bulmak için genel bir yol:"
   ]
  },
  {
   "cell_type": "code",
   "execution_count": null,
   "metadata": {},
   "outputs": [],
   "source": [
    "# Her bir sütun için aykırı değerleri bulun\n",
    "for column in data.columns:\n",
    "    \n",
    "    if not pd.api.types.is_numeric_dtype(data[column]):      # Sayısal olmayan sütunları atla\n",
    "        print(\"Sayısal olmayan sütun - {}: Aykırı değer hesaplanamaz.\\n\".format(column))\n",
    "        continue                                             \n",
    "    \n",
    "    # Sütun için çeyreklikleri ve IQR'ı hesaplayın\n",
    "    Q1 = data[column].quantile(0.25)\n",
    "    Q3 = data[column].quantile(0.75)\n",
    "    IQR = Q3 - Q1\n",
    "\n",
    "    # Aykırı değerleri tespit edin\n",
    "    alt_sinir = Q1 - 1.5 * IQR\n",
    "    ust_sinir = Q3 + 1.5 * IQR\n",
    "    aykirilar = (data[column] < alt_sinir) | (data[column] > ust_sinir)\n",
    "\n",
    "    # Aykırı değerleri yazdırın\n",
    "    print(\"Aykırı Değerler - {}: \".format(column))\n",
    "    print(data[column][aykirilar])\n",
    "    print(\"\\n\")\n",
    "\n",
    "    # Aykırı değerleri görselleştirin\n",
    "    plt.figure(figsize=(8, 6))\n",
    "    plt.hist(data[column], bins=30, color='skyblue', edgecolor='black', alpha=0.7, label='Veri')\n",
    "    plt.hist(data[column][aykirilar], bins=10, color='red', edgecolor='black', alpha=0.7, label='Aykırı Değerler')\n",
    "    plt.xlabel(column)\n",
    "    plt.ylabel('Frekans')\n",
    "    plt.title('Aykırı Değerlerin Görselleştirilmesi - {}'.format(column))\n",
    "    plt.legend()\n",
    "    plt.show()\n"
   ]
  },
  {
   "cell_type": "markdown",
   "metadata": {},
   "source": [
    "#### Sürekli ve Kategorik değişkenlerin temizlenmesi"
   ]
  },
  {
   "cell_type": "code",
   "execution_count": null,
   "metadata": {},
   "outputs": [],
   "source": [
    "def check_data_types(df):\n",
    "    data_types = {}\n",
    "    for column in df.columns:\n",
    "        if pd.api.types.is_numeric_dtype(df[column]):\n",
    "            data_types[column] = 'numeric'\n",
    "        else:\n",
    "            data_types[column] = 'categorical'\n",
    "    return data_types\n",
    "\n",
    "\n",
    "\n",
    "# Veri türlerini kontrol etmek için fonksiyonu çağırma\n",
    "column_data_types = check_data_types(data)\n",
    "for column, data_type in column_data_types.items():\n",
    "    print(f\"{column}: {data_type}\")\n"
   ]
  },
  {
   "cell_type": "code",
   "execution_count": null,
   "metadata": {},
   "outputs": [],
   "source": []
  },
  {
   "cell_type": "markdown",
   "metadata": {},
   "source": [
    "# To Do = gerçekte verilerin numeric mi değil mi olduğunu tartış"
   ]
  }
 ],
 "metadata": {
  "kernelspec": {
   "display_name": "Python 3",
   "language": "python",
   "name": "python3"
  },
  "language_info": {
   "codemirror_mode": {
    "name": "ipython",
    "version": 3
   },
   "file_extension": ".py",
   "mimetype": "text/x-python",
   "name": "python",
   "nbconvert_exporter": "python",
   "pygments_lexer": "ipython3",
   "version": "3.12.3"
  }
 },
 "nbformat": 4,
 "nbformat_minor": 2
}
