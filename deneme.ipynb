{
 "cells": [
  {
   "cell_type": "code",
   "execution_count": 117,
   "metadata": {},
   "outputs": [],
   "source": [
    "import pandas as pd\n",
    "import matplotlib.pyplot as plt\n",
    "import seaborn as sns\n",
    "from sklearn.model_selection import train_test_split, GridSearchCV\n",
    "from sklearn.preprocessing import StandardScaler, OneHotEncoder\n",
    "from sklearn.compose import ColumnTransformer\n",
    "from sklearn.pipeline import Pipeline\n",
    "from sklearn.ensemble import RandomForestRegressor\n",
    "from sklearn.metrics import mean_absolute_error, mean_squared_error"
   ]
  },
  {
   "cell_type": "markdown",
   "metadata": {},
   "source": [
    "### VERİYİ TANIMA "
   ]
  },
  {
   "cell_type": "code",
   "execution_count": 118,
   "metadata": {},
   "outputs": [
    {
     "data": {
      "text/html": [
       "<div>\n",
       "<style scoped>\n",
       "    .dataframe tbody tr th:only-of-type {\n",
       "        vertical-align: middle;\n",
       "    }\n",
       "\n",
       "    .dataframe tbody tr th {\n",
       "        vertical-align: top;\n",
       "    }\n",
       "\n",
       "    .dataframe thead th {\n",
       "        text-align: right;\n",
       "    }\n",
       "</style>\n",
       "<table border=\"1\" class=\"dataframe\">\n",
       "  <thead>\n",
       "    <tr style=\"text-align: right;\">\n",
       "      <th></th>\n",
       "      <th>Number_of_Customers</th>\n",
       "      <th>Menu_Price</th>\n",
       "      <th>Marketing_Spend</th>\n",
       "      <th>Cuisine_Type</th>\n",
       "      <th>Average_Customer_Spending</th>\n",
       "      <th>Promotions</th>\n",
       "      <th>Reviews</th>\n",
       "      <th>Monthly_Revenue</th>\n",
       "    </tr>\n",
       "  </thead>\n",
       "  <tbody>\n",
       "    <tr>\n",
       "      <th>0</th>\n",
       "      <td>61</td>\n",
       "      <td>43.117635</td>\n",
       "      <td>12.663793</td>\n",
       "      <td>Japanese</td>\n",
       "      <td>36.236133</td>\n",
       "      <td>0</td>\n",
       "      <td>45</td>\n",
       "      <td>350.912040</td>\n",
       "    </tr>\n",
       "    <tr>\n",
       "      <th>1</th>\n",
       "      <td>24</td>\n",
       "      <td>40.020077</td>\n",
       "      <td>4.577892</td>\n",
       "      <td>Italian</td>\n",
       "      <td>17.952562</td>\n",
       "      <td>0</td>\n",
       "      <td>36</td>\n",
       "      <td>221.319091</td>\n",
       "    </tr>\n",
       "    <tr>\n",
       "      <th>2</th>\n",
       "      <td>81</td>\n",
       "      <td>41.981485</td>\n",
       "      <td>4.652911</td>\n",
       "      <td>Japanese</td>\n",
       "      <td>22.600420</td>\n",
       "      <td>1</td>\n",
       "      <td>91</td>\n",
       "      <td>326.529763</td>\n",
       "    </tr>\n",
       "    <tr>\n",
       "      <th>3</th>\n",
       "      <td>70</td>\n",
       "      <td>43.005307</td>\n",
       "      <td>4.416053</td>\n",
       "      <td>Italian</td>\n",
       "      <td>18.984098</td>\n",
       "      <td>1</td>\n",
       "      <td>59</td>\n",
       "      <td>348.190573</td>\n",
       "    </tr>\n",
       "    <tr>\n",
       "      <th>4</th>\n",
       "      <td>30</td>\n",
       "      <td>17.456199</td>\n",
       "      <td>3.475052</td>\n",
       "      <td>Italian</td>\n",
       "      <td>12.766143</td>\n",
       "      <td>1</td>\n",
       "      <td>30</td>\n",
       "      <td>185.009121</td>\n",
       "    </tr>\n",
       "  </tbody>\n",
       "</table>\n",
       "</div>"
      ],
      "text/plain": [
       "   Number_of_Customers  Menu_Price  Marketing_Spend Cuisine_Type  \\\n",
       "0                   61   43.117635        12.663793     Japanese   \n",
       "1                   24   40.020077         4.577892      Italian   \n",
       "2                   81   41.981485         4.652911     Japanese   \n",
       "3                   70   43.005307         4.416053      Italian   \n",
       "4                   30   17.456199         3.475052      Italian   \n",
       "\n",
       "   Average_Customer_Spending  Promotions  Reviews  Monthly_Revenue  \n",
       "0                  36.236133           0       45       350.912040  \n",
       "1                  17.952562           0       36       221.319091  \n",
       "2                  22.600420           1       91       326.529763  \n",
       "3                  18.984098           1       59       348.190573  \n",
       "4                  12.766143           1       30       185.009121  "
      ]
     },
     "execution_count": 118,
     "metadata": {},
     "output_type": "execute_result"
    }
   ],
   "source": [
    "data= pd.read_csv(r'C:\\Users\\beyza\\Downloads\\Restaurant_revenue.csv')\n",
    "data.head()"
   ]
  },
  {
   "cell_type": "code",
   "execution_count": 119,
   "metadata": {},
   "outputs": [
    {
     "name": "stdout",
     "output_type": "stream",
     "text": [
      "<class 'pandas.core.frame.DataFrame'>\n",
      "RangeIndex: 1000 entries, 0 to 999\n",
      "Data columns (total 8 columns):\n",
      " #   Column                     Non-Null Count  Dtype  \n",
      "---  ------                     --------------  -----  \n",
      " 0   Number_of_Customers        1000 non-null   int64  \n",
      " 1   Menu_Price                 1000 non-null   float64\n",
      " 2   Marketing_Spend            1000 non-null   float64\n",
      " 3   Cuisine_Type               1000 non-null   object \n",
      " 4   Average_Customer_Spending  1000 non-null   float64\n",
      " 5   Promotions                 1000 non-null   int64  \n",
      " 6   Reviews                    1000 non-null   int64  \n",
      " 7   Monthly_Revenue            1000 non-null   float64\n",
      "dtypes: float64(4), int64(3), object(1)\n",
      "memory usage: 62.6+ KB\n"
     ]
    }
   ],
   "source": [
    "data.info()"
   ]
  },
  {
   "cell_type": "markdown",
   "metadata": {},
   "source": [
    "- DataFrame sınıfına ait bir nesne \n",
    "- 1000 satır gözlem içerir . index 0 ile 999 arasındadır ( RangeIndex: 1000 entries , 0 to 999 )\n",
    "- 8 sütun içerir."
   ]
  },
  {
   "cell_type": "markdown",
   "metadata": {},
   "source": [
    "Restoran Geliri Tahmini Veri Kümesi, bir dizi hayali restoran için aylık gelirin tahmin edilmesine odaklanan, tahmine dayalı modelleme çalışmaları için hazırlanmış simüle edilmiş bir veri kümesidir. Bu veri seti, restoran performansını etkileyen faktörleri taklit etmek için tasarlanmış çok çeşitli özellikler sunar.\n",
    "\n",
    "**Veri Kümesi Özellikleri:**\n",
    "\n",
    "1. *Number_of_Customers (Müşteri Sayısı)*\n",
    "\n",
    "- &nbsp; Restoranı ziyaret eden müşterilerin sayısını belirtir.\n",
    "- &nbsp; Yüksek müşteri sayısı genellikle daha yüksek gelirle ilişkilidir. Müşteri sayısı, restoranın popülaritesini ve müşteri tabanının genişliğini gösterir.\n",
    "\n",
    "2. *Menu_Price (Menü Fiyatı)*\n",
    "\n",
    "- &nbsp; Restorandaki ortalama menü fiyatlarını gösterir.\n",
    "- &nbsp; Menü fiyatları, gelir tahmininde önemli bir faktördür. Yüksek fiyatlar daha yüksek gelir sağlayabilir, ancak müşteri sayısını da etkileyebilir.\n",
    "\n",
    "3. *Marketing_Spend (Pazarlama Harcaması)*\n",
    "\n",
    "- &nbsp; Pazarlama faaliyetlerine ilişkin harcamaları belirtir.\n",
    "- &nbsp; Pazarlama harcamaları, müşteri çekme ve gelir artırma stratejilerinde kritik bir rol oynar. Daha yüksek pazarlama harcamaları genellikle daha fazla müşteri çekebilir.\n",
    "\n",
    "4. *Cuisine_Type (Mutfak Türü)*\n",
    "\n",
    "- &nbsp; Restoranın sunduğu mutfağın türünü belirtir (örneğin, İtalyan, Meksika, Japon, Amerikan).\n",
    "- &nbsp; Mutfak türü, belirli müşteri segmentlerini çekebilir ve restoranın popülaritesini etkileyebilir. Farklı mutfak türleri farklı fiyatlandırma stratejilerine sahip olabilir.\n",
    " \n",
    "5. *Average_Customer_Spending (Ortalama Müşteri Harcaması)*\n",
    "\n",
    "- &nbsp; Müşteri başına ortalama harcamayı gösterir.\n",
    "- &nbsp; Ortalama müşteri harcaması, gelir tahmini için kritik bir faktördür. Müşterilerin ne kadar harcadığı, toplam geliri doğrudan etkiler.\n",
    "\n",
    "6. *Promotions (Promosyonlar)*\n",
    "\n",
    "- &nbsp; Promosyonların yapılıp yapılmadığını gösteren ikili bir göstergedir (0 veya 1).\n",
    "- &nbsp; Promosyonlar, müşteri çekmek ve satışları artırmak için yaygın olarak kullanılır. Promosyonların varlığı (1), satışlarda geçici bir artışa neden olabilir.\n",
    "\n",
    "7. *Reviews (Yorumlar)*\n",
    "\n",
    "- &nbsp; Restoranın aldığı yorumların sayısını belirtir.\n",
    "- &nbsp; Yorumlar, restoranın itibarını ve müşteri memnuniyetini yansıtır. Daha fazla olumlu yorum, daha fazla müşteri çekebilir ve geliri artırabilir.\n",
    "\n",
    "8. *Monthly_Revenue (Aylık Gelir)*\n",
    "\n",
    "- &nbsp; Restoranın simüle edilmiş aylık gelirini gösterir.\n",
    "- &nbsp; Bu, tahmin için hedef değişkendir ve yukarıdaki faktörlerin etkilediği sonucu gösterir. Amaç, diğer faktörlere dayanarak bu değeri tahmin etmektir."
   ]
  },
  {
   "cell_type": "markdown",
   "metadata": {},
   "source": [
    "---"
   ]
  },
  {
   "cell_type": "markdown",
   "metadata": {},
   "source": [
    "### Veri Temizleme \n",
    "Eksik verilerin ve aykırı değerlerin kontrol edilmesi ve gerektiğinde düzeltilmesi."
   ]
  },
  {
   "cell_type": "code",
   "execution_count": 120,
   "metadata": {},
   "outputs": [
    {
     "data": {
      "text/plain": [
       "Number_of_Customers          False\n",
       "Menu_Price                   False\n",
       "Marketing_Spend              False\n",
       "Cuisine_Type                 False\n",
       "Average_Customer_Spending    False\n",
       "Promotions                   False\n",
       "Reviews                      False\n",
       "Monthly_Revenue              False\n",
       "dtype: bool"
      ]
     },
     "execution_count": 120,
     "metadata": {},
     "output_type": "execute_result"
    }
   ],
   "source": [
    "#from pandas\n",
    "data.isnull().any()"
   ]
  },
  {
   "cell_type": "code",
   "execution_count": 121,
   "metadata": {},
   "outputs": [
    {
     "data": {
      "text/plain": [
       "Number_of_Customers          0\n",
       "Menu_Price                   0\n",
       "Marketing_Spend              0\n",
       "Cuisine_Type                 0\n",
       "Average_Customer_Spending    0\n",
       "Promotions                   0\n",
       "Reviews                      0\n",
       "Monthly_Revenue              0\n",
       "dtype: int64"
      ]
     },
     "execution_count": 121,
     "metadata": {},
     "output_type": "execute_result"
    }
   ],
   "source": [
    "#eksik veri varsa toplam kaç tane\n",
    "data.isnull().sum()"
   ]
  },
  {
   "cell_type": "markdown",
   "metadata": {},
   "source": [
    "**DataFrame'in hiçbir sütununda eksik(null) veri bulunmamaktadır. Veri analizi ve modelleme işlemi için eksik veri imputation (doldurma) veya veri temizleme adımlarına gerek yok.**"
   ]
  },
  {
   "cell_type": "markdown",
   "metadata": {},
   "source": [
    "---"
   ]
  },
  {
   "cell_type": "code",
   "execution_count": 122,
   "metadata": {},
   "outputs": [
    {
     "data": {
      "text/html": [
       "<div>\n",
       "<style scoped>\n",
       "    .dataframe tbody tr th:only-of-type {\n",
       "        vertical-align: middle;\n",
       "    }\n",
       "\n",
       "    .dataframe tbody tr th {\n",
       "        vertical-align: top;\n",
       "    }\n",
       "\n",
       "    .dataframe thead th {\n",
       "        text-align: right;\n",
       "    }\n",
       "</style>\n",
       "<table border=\"1\" class=\"dataframe\">\n",
       "  <thead>\n",
       "    <tr style=\"text-align: right;\">\n",
       "      <th></th>\n",
       "      <th>Number_of_Customers</th>\n",
       "      <th>Menu_Price</th>\n",
       "      <th>Marketing_Spend</th>\n",
       "      <th>Average_Customer_Spending</th>\n",
       "      <th>Promotions</th>\n",
       "      <th>Reviews</th>\n",
       "      <th>Monthly_Revenue</th>\n",
       "    </tr>\n",
       "  </thead>\n",
       "  <tbody>\n",
       "    <tr>\n",
       "      <th>count</th>\n",
       "      <td>1000.000000</td>\n",
       "      <td>1000.000000</td>\n",
       "      <td>1000.000000</td>\n",
       "      <td>1000.000000</td>\n",
       "      <td>1000.000000</td>\n",
       "      <td>1000.000000</td>\n",
       "      <td>1000.000000</td>\n",
       "    </tr>\n",
       "    <tr>\n",
       "      <th>mean</th>\n",
       "      <td>53.271000</td>\n",
       "      <td>30.219120</td>\n",
       "      <td>9.958726</td>\n",
       "      <td>29.477085</td>\n",
       "      <td>0.497000</td>\n",
       "      <td>49.837000</td>\n",
       "      <td>268.724172</td>\n",
       "    </tr>\n",
       "    <tr>\n",
       "      <th>std</th>\n",
       "      <td>26.364914</td>\n",
       "      <td>11.278760</td>\n",
       "      <td>5.845586</td>\n",
       "      <td>11.471686</td>\n",
       "      <td>0.500241</td>\n",
       "      <td>29.226334</td>\n",
       "      <td>103.982950</td>\n",
       "    </tr>\n",
       "    <tr>\n",
       "      <th>min</th>\n",
       "      <td>10.000000</td>\n",
       "      <td>10.009501</td>\n",
       "      <td>0.003768</td>\n",
       "      <td>10.037177</td>\n",
       "      <td>0.000000</td>\n",
       "      <td>0.000000</td>\n",
       "      <td>-28.977809</td>\n",
       "    </tr>\n",
       "    <tr>\n",
       "      <th>25%</th>\n",
       "      <td>30.000000</td>\n",
       "      <td>20.396828</td>\n",
       "      <td>4.690724</td>\n",
       "      <td>19.603041</td>\n",
       "      <td>0.000000</td>\n",
       "      <td>24.000000</td>\n",
       "      <td>197.103642</td>\n",
       "    </tr>\n",
       "    <tr>\n",
       "      <th>50%</th>\n",
       "      <td>54.000000</td>\n",
       "      <td>30.860614</td>\n",
       "      <td>10.092047</td>\n",
       "      <td>29.251365</td>\n",
       "      <td>0.000000</td>\n",
       "      <td>50.000000</td>\n",
       "      <td>270.213964</td>\n",
       "    </tr>\n",
       "    <tr>\n",
       "      <th>75%</th>\n",
       "      <td>74.000000</td>\n",
       "      <td>39.843868</td>\n",
       "      <td>14.992436</td>\n",
       "      <td>39.553220</td>\n",
       "      <td>1.000000</td>\n",
       "      <td>76.000000</td>\n",
       "      <td>343.395793</td>\n",
       "    </tr>\n",
       "    <tr>\n",
       "      <th>max</th>\n",
       "      <td>99.000000</td>\n",
       "      <td>49.974140</td>\n",
       "      <td>19.994276</td>\n",
       "      <td>49.900725</td>\n",
       "      <td>1.000000</td>\n",
       "      <td>99.000000</td>\n",
       "      <td>563.381332</td>\n",
       "    </tr>\n",
       "  </tbody>\n",
       "</table>\n",
       "</div>"
      ],
      "text/plain": [
       "       Number_of_Customers   Menu_Price  Marketing_Spend  \\\n",
       "count          1000.000000  1000.000000      1000.000000   \n",
       "mean             53.271000    30.219120         9.958726   \n",
       "std              26.364914    11.278760         5.845586   \n",
       "min              10.000000    10.009501         0.003768   \n",
       "25%              30.000000    20.396828         4.690724   \n",
       "50%              54.000000    30.860614        10.092047   \n",
       "75%              74.000000    39.843868        14.992436   \n",
       "max              99.000000    49.974140        19.994276   \n",
       "\n",
       "       Average_Customer_Spending   Promotions      Reviews  Monthly_Revenue  \n",
       "count                1000.000000  1000.000000  1000.000000      1000.000000  \n",
       "mean                   29.477085     0.497000    49.837000       268.724172  \n",
       "std                    11.471686     0.500241    29.226334       103.982950  \n",
       "min                    10.037177     0.000000     0.000000       -28.977809  \n",
       "25%                    19.603041     0.000000    24.000000       197.103642  \n",
       "50%                    29.251365     0.000000    50.000000       270.213964  \n",
       "75%                    39.553220     1.000000    76.000000       343.395793  \n",
       "max                    49.900725     1.000000    99.000000       563.381332  "
      ]
     },
     "execution_count": 122,
     "metadata": {},
     "output_type": "execute_result"
    }
   ],
   "source": [
    "data.describe()"
   ]
  },
  {
   "cell_type": "code",
   "execution_count": 123,
   "metadata": {},
   "outputs": [
    {
     "name": "stdout",
     "output_type": "stream",
     "text": [
      "                            count        mean         std        min  \\\n",
      "Number_of_Customers        1000.0   53.271000   26.364914  10.000000   \n",
      "Menu_Price                 1000.0   30.219120   11.278760  10.009501   \n",
      "Marketing_Spend            1000.0    9.958726    5.845586   0.003768   \n",
      "Average_Customer_Spending  1000.0   29.477085   11.471686  10.037177   \n",
      "Promotions                 1000.0    0.497000    0.500241   0.000000   \n",
      "Reviews                    1000.0   49.837000   29.226334   0.000000   \n",
      "Monthly_Revenue            1000.0  268.724172  103.982950 -28.977809   \n",
      "\n",
      "                                  25%         50%         75%         max  \n",
      "Number_of_Customers         30.000000   54.000000   74.000000   99.000000  \n",
      "Menu_Price                  20.396828   30.860614   39.843868   49.974140  \n",
      "Marketing_Spend              4.690724   10.092047   14.992436   19.994276  \n",
      "Average_Customer_Spending   19.603041   29.251365   39.553220   49.900725  \n",
      "Promotions                   0.000000    0.000000    1.000000    1.000000  \n",
      "Reviews                     24.000000   50.000000   76.000000   99.000000  \n",
      "Monthly_Revenue            197.103642  270.213964  343.395793  563.381332  \n"
     ]
    }
   ],
   "source": [
    "#Temel Istatistikler\n",
    "print(data.describe().T)"
   ]
  },
  {
   "cell_type": "markdown",
   "metadata": {},
   "source": [
    "# Keşifsel Veri Analizi (EDA)"
   ]
  }
 ],
 "metadata": {
  "kernelspec": {
   "display_name": "Python 3",
   "language": "python",
   "name": "python3"
  },
  "language_info": {
   "codemirror_mode": {
    "name": "ipython",
    "version": 3
   },
   "file_extension": ".py",
   "mimetype": "text/x-python",
   "name": "python",
   "nbconvert_exporter": "python",
   "pygments_lexer": "ipython3",
   "version": "3.12.3"
  }
 },
 "nbformat": 4,
 "nbformat_minor": 2
}
